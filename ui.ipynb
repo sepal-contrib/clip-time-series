{
 "cells": [
  {
   "cell_type": "code",
   "execution_count": null,
   "id": "6f434bc9",
   "metadata": {},
   "outputs": [],
   "source": [
    "import json\n",
    "from pathlib import Path\n",
    "import ee\n",
    "\n",
    "\n",
    "def authenticate_gee():\n",
    "    \"\"\"Authenticate GEE using the credentials file in the user's home directory.\"\"\"\n",
    "    credential_folder_path = Path.home() / \".config\" / \"earthengine\"\n",
    "    credential_file_path = credential_folder_path / \"credentials\"\n",
    "    credentials = json.loads(credential_file_path.read_text())\n",
    "    project = credentials.get(\"project_id\", credentials.get(\"project\", None))\n",
    "    ee.Initialize(project=project)\n",
    "    assert ee.data.getAssetRoots(), \"Error: You have not initialized the GEE home folder. Please follow the the SEPAL documentation: https://docs.sepal.io/en/latest/setup/gee.html#initialize-the-home-folder.\"\n",
    "    \n",
    "authenticate_gee()\n"
   ]
  },
  {
   "cell_type": "markdown",
   "metadata": {},
   "source": [
    "<center><h1 class=\"text-center h3\" id=\"loading-app\">Setting things up for you... Thanks for waiting!</h1></center>"
   ]
  },
  {
   "cell_type": "code",
   "execution_count": null,
   "metadata": {},
   "outputs": [],
   "source": [
    "from sepal_ui import sepalwidgets as sw\n",
    "from component.message import cm"
   ]
  },
  {
   "cell_type": "code",
   "execution_count": null,
   "metadata": {},
   "outputs": [],
   "source": [
    "from component import tile\n",
    "from component import model"
   ]
  },
  {
   "cell_type": "code",
   "execution_count": null,
   "metadata": {},
   "outputs": [],
   "source": [
    "# create appBar\n",
    "ts_appBar = sw.AppBar(cm.app.title)\n",
    "\n",
    "ts_about = sw.TileAbout(\"utils/about.md\")\n",
    "ts_disclaimer = sw.TileDisclaimer()"
   ]
  },
  {
   "cell_type": "code",
   "execution_count": null,
   "metadata": {},
   "outputs": [],
   "source": [
    "tb_model = model.TableModel()\n",
    "# tiles to display the points on a map\n",
    "tb_map_tile = tile.MapTile()\n",
    "# output to display messages\n",
    "file_tile = tile.FileTile(tb_model, tb_map_tile.map)\n",
    "# create a test downloader\n",
    "test_tile = tile.TestTile(file_tile)"
   ]
  },
  {
   "cell_type": "code",
   "execution_count": null,
   "metadata": {},
   "outputs": [],
   "source": [
    "viz_model = model.VizModel()\n",
    "viz_input_tile = tile.InputTile(viz_model, tb_model)"
   ]
  },
  {
   "cell_type": "code",
   "execution_count": null,
   "metadata": {},
   "outputs": [],
   "source": [
    "export_model = model.ExportModel()\n",
    "# result tile\n",
    "export_results = tile.ExportResult()\n",
    "# export data\n",
    "export_tile = tile.ExportData(export_model, viz_model, tb_model, export_results)"
   ]
  },
  {
   "cell_type": "code",
   "execution_count": null,
   "metadata": {},
   "outputs": [],
   "source": [
    "ts_content = [\n",
    "    test_tile,\n",
    "    file_tile,\n",
    "    tb_map_tile,\n",
    "    viz_input_tile,\n",
    "    export_tile,\n",
    "    export_results,\n",
    "    ts_about,\n",
    "    ts_disclaimer,\n",
    "]"
   ]
  },
  {
   "cell_type": "code",
   "execution_count": null,
   "metadata": {},
   "outputs": [],
   "source": [
    "# create a drawer\n",
    "ts_items = [\n",
    "    sw.DrawerItem(cm.app.drawer_item.point, \"mdi-map-marker-check\", card=\"file_widget\"),\n",
    "    sw.DrawerItem(cm.app.drawer_item.viz, \"mdi-earth\", card=\"viz_widget\"),\n",
    "    sw.DrawerItem(cm.app.drawer_item.export, \"mdi-export\", card=\"export_widget\"),\n",
    "    sw.DrawerItem(cm.app.drawer_item.about, \"mdi-help-circle\", card=\"about_tile\"),\n",
    "]\n",
    "\n",
    "code_link = \"https://github.com/openforis/clip-time-series\"\n",
    "wiki_link = \"https://docs.sepal.io/en/latest/modules/dwn/clip-time-series.html\"\n",
    "issue = \"https://github.com/openforis/clip-time-series/issues/new\"\n",
    "\n",
    "ts_drawer = sw.NavDrawer(ts_items, code=code_link, wiki=wiki_link, issue=issue)"
   ]
  },
  {
   "cell_type": "code",
   "execution_count": null,
   "metadata": {},
   "outputs": [],
   "source": [
    "# build the app\n",
    "ts_app = sw.App(tiles=ts_content, navDrawer=ts_drawer)"
   ]
  },
  {
   "cell_type": "code",
   "execution_count": null,
   "metadata": {},
   "outputs": [],
   "source": [
    "# display the app\n",
    "ts_app.show_tile(\"file_widget\")"
   ]
  }
 ],
 "metadata": {
  "kernelspec": {
   "display_name": "(venv) clip-time-series",
   "language": "python",
   "name": "venv-clip-time-series"
  },
  "language_info": {
   "codemirror_mode": {
    "name": "ipython",
    "version": 3
   },
   "file_extension": ".py",
   "mimetype": "text/x-python",
   "name": "python",
   "nbconvert_exporter": "python",
   "pygments_lexer": "ipython3",
   "version": "3.10.12"
  },
  "voila": {
   "theme": "dark"
  }
 },
 "nbformat": 4,
 "nbformat_minor": 4
}
