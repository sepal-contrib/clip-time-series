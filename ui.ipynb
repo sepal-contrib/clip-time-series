{
 "cells": [
  {
   "cell_type": "code",
   "execution_count": null,
   "metadata": {},
   "outputs": [],
   "source": [
    "from sepal_ui import sepalwidgets as sw"
   ]
  },
  {
   "cell_type": "code",
   "execution_count": null,
   "metadata": {},
   "outputs": [],
   "source": [
    "from component.message import cm"
   ]
  },
  {
   "cell_type": "code",
   "execution_count": null,
   "metadata": {},
   "outputs": [],
   "source": [
    "# create appBar\n",
    "ts_appBar = sw.AppBar(cm.app.title)"
   ]
  },
  {
   "cell_type": "code",
   "execution_count": null,
   "metadata": {},
   "outputs": [],
   "source": [
    "# add the tiles\n",
    "%run 'table_ui.ipynb'\n",
    "%run 'viz_ui.ipynb'\n",
    "%run 'export_ui.ipynb'\n",
    "%run 'about_ui.ipynb'\n",
    "\n",
    "ts_content = [\n",
    "    test_tile,\n",
    "    file_tile,\n",
    "    tb_map_tile,\n",
    "    viz_input_tile,\n",
    "    export_tile,\n",
    "    export_results,\n",
    "    ts_about,\n",
    "    ts_disclaimer,\n",
    "]"
   ]
  },
  {
   "cell_type": "code",
   "execution_count": null,
   "metadata": {},
   "outputs": [],
   "source": [
    "# create a drawer\n",
    "ts_items = [\n",
    "    sw.DrawerItem(cm.app.drawer_item.point, \"mdi-map-marker-check\", card=\"file_widget\"),\n",
    "    sw.DrawerItem(cm.app.drawer_item.viz, \"mdi-earth\", card=\"viz_widget\"),\n",
    "    sw.DrawerItem(cm.app.drawer_item.export, \"mdi-export\", card=\"export_widget\"),\n",
    "    sw.DrawerItem(cm.app.drawer_item.about, \"mdi-help-circle\", card=\"about_tile\"),\n",
    "]\n",
    "\n",
    "code_link = \"https://github.com/openforis/clip-time-series\"\n",
    "wiki_link = \"https://docs.sepal.io/en/latest/modules/dwn/clip-time-series.html\"\n",
    "issue = \"https://github.com/openforis/clip-time-series/issues/new\"\n",
    "\n",
    "ts_drawer = sw.NavDrawer(ts_items, code=code_link, wiki=wiki_link, issue=issue)"
   ]
  },
  {
   "cell_type": "code",
   "execution_count": null,
   "metadata": {},
   "outputs": [],
   "source": [
    "# build the app\n",
    "ts_app = sw.App(tiles=ts_content, navDrawer=ts_drawer).show_tile(\"file_widget\")"
   ]
  },
  {
   "cell_type": "code",
   "execution_count": null,
   "metadata": {},
   "outputs": [],
   "source": [
    "# display the app\n",
    "ts_app"
   ]
  }
 ],
 "metadata": {
  "kernelspec": {
   "display_name": "Python 3",
   "language": "python",
   "name": "python3"
  },
  "language_info": {
   "codemirror_mode": {
    "name": "ipython",
    "version": 3
   },
   "file_extension": ".py",
   "mimetype": "text/x-python",
   "name": "python",
   "nbconvert_exporter": "python",
   "pygments_lexer": "ipython3",
   "version": "3.8.10"
  },
  "voila": {
   "theme": "dark"
  }
 },
 "nbformat": 4,
 "nbformat_minor": 4
}
