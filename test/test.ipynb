{
 "cells": [
  {
   "cell_type": "code",
   "execution_count": null,
   "metadata": {},
   "outputs": [],
   "source": [
    "%load_ext autoreload\n",
    "%autoreload 2"
   ]
  },
  {
   "cell_type": "code",
   "execution_count": null,
   "metadata": {},
   "outputs": [],
   "source": [
    "import sys\n",
    "from pathlib import Path\n",
    "\n",
    "sys.path.insert(0, Path(\"../\").resolve().as_posix())"
   ]
  },
  {
   "cell_type": "code",
   "execution_count": null,
   "metadata": {},
   "outputs": [],
   "source": [
    "import tempfile\n",
    "from component.scripts.gee import get_gee_vrt\n",
    "from component.scripts.utils import get_pdf_path\n",
    "import geopandas as gpd\n",
    "import component.widget as cw\n",
    "import io\n",
    "import ee\n",
    "from sepal_ui.scripts.utils import init_ee"
   ]
  },
  {
   "cell_type": "code",
   "execution_count": null,
   "metadata": {},
   "outputs": [],
   "source": [
    "init_ee()"
   ]
  },
  {
   "cell_type": "code",
   "execution_count": null,
   "metadata": {},
   "outputs": [],
   "source": [
    "json_file = io.StringIO(\n",
    "    \"\"\"{\"type\": \"FeatureCollection\", \"features\": [{\"id\": \"0\", \"type\": \"Feature\", \"properties\": {\"lat\": 5.33469724544027, \"lng\": 13.0256336559457, \"id\": 1}, \"geometry\": {\"type\": \"Point\", \"coordinates\": [13.0256336559457, 5.33469724544027]}}, {\"id\": \"1\", \"type\": \"Feature\", \"properties\": {\"lat\": 5.31724397918854, \"lng\": 13.0145627442248, \"id\": 2}, \"geometry\": {\"type\": \"Point\", \"coordinates\": [13.0145627442248, 5.31724397918854]}}, {\"id\": \"2\", \"type\": \"Feature\", \"properties\": {\"lat\": 5.31816258449969, \"lng\": 13.0320916877829, \"id\": 3}, \"geometry\": {\"type\": \"Point\", \"coordinates\": [13.0320916877829, 5.31816258449969]}}, {\"id\": \"3\", \"type\": \"Feature\", \"properties\": {\"lat\": 5.48440733356101, \"lng\": 12.9075439309229, \"id\": 4}, \"geometry\": {\"type\": \"Point\", \"coordinates\": [12.9075439309229, 5.48440733356101]}}, {\"id\": \"4\", \"type\": \"Feature\", \"properties\": {\"lat\": 5.46236646346553, \"lng\": 12.9093890828764, \"id\": 5}, \"geometry\": {\"type\": \"Point\", \"coordinates\": [12.9093890828764, 5.46236646346553]}}]}\"\"\"\n",
    ")\n",
    "geometries = gpd.read_file(json_file)\n",
    "alert = cw.CustomAlert()"
   ]
  },
  {
   "cell_type": "code",
   "execution_count": null,
   "metadata": {},
   "outputs": [],
   "source": [
    "c_inputs = mosaics, image_size, sources, bands, square_size = (\n",
    "    [2024, 2023],\n",
    "    250,\n",
    "    [\"sentinel\", \"landsat\"],\n",
    "    \"Red, Green, Blue\",\n",
    "    90,\n",
    ")"
   ]
  },
  {
   "cell_type": "code",
   "execution_count": null,
   "metadata": {},
   "outputs": [],
   "source": [
    "tmp_dir = Path(tempfile.mkdtemp())\n",
    "input_file_path = tmp_dir / \"test_points.csv\"\n",
    "\n",
    "pdf_filepath = get_pdf_path(\n",
    "    input_file_path.stem, sources, bands, square_size, image_size\n",
    ")\n",
    "\n",
    "vrt_list, title_list = get_gee_vrt(\n",
    "    geometries,\n",
    "    mosaics,\n",
    "    image_size,\n",
    "    pdf_filepath.stem,\n",
    "    bands,\n",
    "    sources,\n",
    "    alert,\n",
    "    tmp_dir,\n",
    ")"
   ]
  },
  {
   "cell_type": "code",
   "execution_count": null,
   "metadata": {},
   "outputs": [],
   "source": [
    "alert"
   ]
  },
  {
   "cell_type": "code",
   "execution_count": null,
   "metadata": {},
   "outputs": [],
   "source": [
    "from component.scripts.gee import get_ee_image\n",
    "from component import parameter as cp\n",
    "\n",
    "\n",
    "satellite_id = \"sentinel_2\"\n",
    "year = 2024\n",
    "satellites = cp.getSatellites(sources, year)\n",
    "start = str(year) + \"-01-01\"\n",
    "end = str(year) + \"-12-31\"\n",
    "aoi = ee.Geometry.Polygon(\n",
    "    [\n",
    "        [\n",
    "            [13.024513100356552, 5.333572819469696],\n",
    "            [13.026757769061255, 5.333572819469696],\n",
    "            [13.026757769061255, 5.335822103684232],\n",
    "            [13.024513100356552, 5.335822103684232],\n",
    "            [13.024513100356552, 5.333572819469696],\n",
    "        ]\n",
    "    ]\n",
    ")\n",
    "dataset, ee_image = get_ee_image(satellites, satellite_id, start, end, bands, aoi)\n",
    "dataset.getInfo();"
   ]
  },
  {
   "cell_type": "code",
   "execution_count": null,
   "metadata": {},
   "outputs": [],
   "source": [
    "satellites"
   ]
  },
  {
   "cell_type": "code",
   "execution_count": null,
   "metadata": {},
   "outputs": [],
   "source": [
    "ee_image.select(0).reduceRegion(\n",
    "    reducer=ee.Reducer.count(),\n",
    "    geometry=aoi,\n",
    "    scale=ee_image.projection().nominalScale(),\n",
    ").values().get(0).getInfo()"
   ]
  },
  {
   "cell_type": "code",
   "execution_count": null,
   "metadata": {},
   "outputs": [],
   "source": [
    "pixel_masked = (\n",
    "    ee_image.select(0)\n",
    "    .reduceRegion(\n",
    "        reducer=ee.Reducer.count(),\n",
    "        geometry=aoi,\n",
    "        scale=ee_image.projection().nominalScale(),\n",
    "    )\n",
    "    .get(band)\n",
    ")"
   ]
  },
  {
   "cell_type": "code",
   "execution_count": null,
   "metadata": {},
   "outputs": [],
   "source": [
    "# create the feature collection name\n",
    "dataset = (\n",
    "    ee.ImageCollection(satellites[satelliteId])\n",
    "    .filterDate(start, end)\n",
    "    .filterBounds(mask)\n",
    "    .map(cp.getCloudMask(satelliteId))\n",
    ")\n",
    "\n",
    "clip = dataset.median().clip(mask).select(cp.getAvailableBands()[bands][satelliteId])"
   ]
  },
  {
   "cell_type": "code",
   "execution_count": null,
   "metadata": {},
   "outputs": [],
   "source": [
    "from component.scripts.gee import down_buffer, getImage\n",
    "from sepal_ui.scripts.utils import init_ee\n",
    "from component.scripts.utils import min_diagonal\n",
    "\n",
    "init_ee()\n",
    "import ee"
   ]
  },
  {
   "cell_type": "code",
   "execution_count": null,
   "metadata": {},
   "outputs": [],
   "source": [
    "geometry = geometries\n",
    "size = image_size"
   ]
  },
  {
   "cell_type": "code",
   "execution_count": null,
   "metadata": {},
   "outputs": [],
   "source": [
    "ee_pts = [ee.Geometry.Point(*g.centroid.coords) for g in geometry.geometry]\n",
    "\n",
    "# get the optimal size buffer\n",
    "size_list = [min_diagonal(g, size) for g in geometry.to_crs(3857).geometry]\n",
    "\n",
    "# create the buffers\n",
    "ee_buffers = [pt.buffer(s / 2).bounds() for pt, s in zip(ee_pts, size_list)]"
   ]
  },
  {
   "cell_type": "code",
   "execution_count": null,
   "metadata": {},
   "outputs": [],
   "source": [
    "ee_buffers[0].getInfo()"
   ]
  },
  {
   "cell_type": "code",
   "execution_count": null,
   "metadata": {},
   "outputs": [],
   "source": [
    "mask = ee_buffers[0]\n",
    "year = mosaics[0]"
   ]
  },
  {
   "cell_type": "markdown",
   "metadata": {},
   "source": [
    "getImage(sources, bands, aoi, year)"
   ]
  },
  {
   "cell_type": "code",
   "execution_count": null,
   "metadata": {},
   "outputs": [],
   "source": [
    "getImage(sources, bands, mask, year)"
   ]
  },
  {
   "cell_type": "code",
   "execution_count": null,
   "metadata": {},
   "outputs": [],
   "source": []
  }
 ],
 "metadata": {
  "kernelspec": {
   "display_name": "clip-time-series",
   "language": "python",
   "name": "python3"
  },
  "language_info": {
   "codemirror_mode": {
    "name": "ipython",
    "version": 3
   },
   "file_extension": ".py",
   "mimetype": "text/x-python",
   "name": "python",
   "nbconvert_exporter": "python",
   "pygments_lexer": "ipython3",
   "version": "3.10.12"
  }
 },
 "nbformat": 4,
 "nbformat_minor": 2
}
