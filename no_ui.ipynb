{
 "cells": [
  {
   "cell_type": "code",
   "execution_count": null,
   "metadata": {},
   "outputs": [],
   "source": [
    "%load_ext autoreload\n",
    "%autoreload 2"
   ]
  },
  {
   "cell_type": "code",
   "execution_count": null,
   "metadata": {},
   "outputs": [],
   "source": [
    "from component import tile\n",
    "from component import model\n",
    "from sepal_ui.planetapi import PlanetView"
   ]
  },
  {
   "cell_type": "code",
   "execution_count": null,
   "metadata": {},
   "outputs": [],
   "source": [
    "tb_model = model.TableModel()\n",
    "# tiles to display the points on a map\n",
    "tb_map_tile = tile.MapTile()\n",
    "# output to display messages\n",
    "file_tile = tile.FileTile(tb_model, tb_map_tile.map)\n",
    "# create a test downloader\n",
    "test_tile = tile.TestTile(file_tile)"
   ]
  },
  {
   "cell_type": "code",
   "execution_count": null,
   "metadata": {},
   "outputs": [],
   "source": [
    "planet_view = PlanetView()"
   ]
  },
  {
   "cell_type": "code",
   "execution_count": null,
   "metadata": {},
   "outputs": [],
   "source": [
    "viz_model = model.VizModel()\n",
    "viz_input_tile = tile.InputTile(viz_model, tb_model, planet_view=planet_view)"
   ]
  },
  {
   "cell_type": "code",
   "execution_count": null,
   "metadata": {},
   "outputs": [],
   "source": [
    "export_model = model.ExportModel()\n",
    "# result tile\n",
    "export_results = tile.ExportResult()\n",
    "# export data\n",
    "export_tile = tile.ExportData(\n",
    "    export_model,\n",
    "    viz_model,\n",
    "    tb_model,\n",
    "    export_results,\n",
    "    planet_model=planet_view.planet_model,\n",
    ")"
   ]
  },
  {
   "cell_type": "code",
   "execution_count": null,
   "metadata": {},
   "outputs": [],
   "source": [
    "test_tile"
   ]
  },
  {
   "cell_type": "code",
   "execution_count": null,
   "metadata": {
    "tags": []
   },
   "outputs": [],
   "source": [
    "file_tile"
   ]
  },
  {
   "cell_type": "code",
   "execution_count": null,
   "metadata": {},
   "outputs": [],
   "source": [
    "tb_map_tile"
   ]
  },
  {
   "cell_type": "code",
   "execution_count": null,
   "metadata": {
    "tags": []
   },
   "outputs": [],
   "source": [
    "viz_input_tile"
   ]
  },
  {
   "cell_type": "code",
   "execution_count": null,
   "metadata": {
    "tags": []
   },
   "outputs": [],
   "source": [
    "export_tile"
   ]
  },
  {
   "cell_type": "code",
   "execution_count": null,
   "metadata": {},
   "outputs": [],
   "source": [
    "from component.scripts.gee import gee_ee_image"
   ]
  },
  {
   "cell_type": "code",
   "execution_count": null,
   "metadata": {},
   "outputs": [],
   "source": [
    "import threading\n",
    "import concurrent.futures\n",
    "\n",
    "from typing import Literal, Tuple\n",
    "import zipfile\n",
    "from functools import partial\n",
    "from pathlib import Path\n",
    "from urllib.request import urlretrieve\n",
    "\n",
    "import ee\n",
    "from osgeo import gdal\n",
    "from sepal_ui import sepalwidgets as sw\n",
    "from sepal_ui.scripts.utils import init_ee\n",
    "\n",
    "from component import parameter as cp\n",
    "from component import widget as cw\n",
    "from component.message import cm\n",
    "\n",
    "from component.scripts.utils import get_buffers, get_vrt_filename, min_diagonal"
   ]
  },
  {
   "cell_type": "code",
   "execution_count": null,
   "metadata": {},
   "outputs": [],
   "source": [
    "def get_ee_image(\n",
    "    satellites: dict,\n",
    "    satellite_id: Literal[\"sentinel_2\", \"landsat_5\", \"landsat_7\", \"landsat_8\"],\n",
    "    start: str,\n",
    "    end: str,\n",
    "    str_bands: str,\n",
    "    aoi: ee.geometry.Geometry,\n",
    ") -> Tuple[ee.ImageCollection, ee.Image]:\n",
    "\n",
    "    # create the feature collection name\n",
    "    dataset = (\n",
    "        ee.ImageCollection(satellites[satellite_id])\n",
    "        .filterDate(start, end)\n",
    "        .filterBounds(aoi)\n",
    "        .map(cp.getCloudMask(satellite_id))\n",
    "    )\n",
    "\n",
    "    bands = cp.getAvailableBands()[str_bands][satellite_id]\n",
    "    ee_image = dataset.median().clip(aoi).select(bands)\n",
    "\n",
    "    # calculate the NDVI or NDWI if needed\n",
    "    # Bands are in the correct order to do the index calculation\n",
    "    if \"ndvi\" in str_bands or \"ndwi\" in str_bands:\n",
    "        ee_image = ee_image.normalizedDifference(bands).rename(\"ndvi\")\n",
    "\n",
    "    return dataset, ee_image"
   ]
  },
  {
   "cell_type": "code",
   "execution_count": null,
   "metadata": {},
   "outputs": [],
   "source": [
    "sources = [\"sentinel\", \"landsat\"]\n",
    "\n",
    "aoi = ee.Geometry.Polygon(\n",
    "    [\n",
    "        [\n",
    "            [13.024513100356552, 5.333572819469696],\n",
    "            [13.026757769061255, 5.333572819469696],\n",
    "            [13.026757769061255, 5.335822103684232],\n",
    "            [13.024513100356552, 5.335822103684232],\n",
    "            [13.024513100356552, 5.333572819469696],\n",
    "        ]\n",
    "    ]\n",
    ")\n",
    "\n",
    "# Test with Sentinel_2\n",
    "bands = str_bands = \"Nir, Swir1, Red\"\n",
    "satellite_id = \"landsat_5\"\n",
    "year = 1990\n",
    "start = str(year) + \"-01-01\"\n",
    "end = str(year) + \"-12-31\"\n",
    "satellites = cp.getSatellites(sources, year)\n",
    "dataset, ee_image = get_ee_image(satellites, satellite_id, start, end, bands, aoi)"
   ]
  },
  {
   "cell_type": "code",
   "execution_count": null,
   "metadata": {},
   "outputs": [],
   "source": [
    "# create the feature collection name\n",
    "dataset = (\n",
    "    ee.ImageCollection(satellites[satellite_id])\n",
    "    .filterDate(start, end)\n",
    "    .filterBounds(aoi)\n",
    "    .map(cp.getCloudMask(satellite_id))\n",
    ")\n",
    "bands = cp.getAvailableBands()[str_bands][satellite_id]\n",
    "ee_image = dataset.median().clip(aoi)"
   ]
  },
  {
   "cell_type": "code",
   "execution_count": null,
   "metadata": {},
   "outputs": [],
   "source": [
    "aoi"
   ]
  },
  {
   "cell_type": "code",
   "execution_count": null,
   "metadata": {},
   "outputs": [],
   "source": [
    "satellites[satellite_id]"
   ]
  },
  {
   "cell_type": "code",
   "execution_count": null,
   "metadata": {},
   "outputs": [],
   "source": []
  }
 ],
 "metadata": {
  "kernelspec": {
   "display_name": "(test) test-clip-time-series",
   "language": "python",
   "name": "test-clip-time-series"
  },
  "language_info": {
   "codemirror_mode": {
    "name": "ipython",
    "version": 3
   },
   "file_extension": ".py",
   "mimetype": "text/x-python",
   "name": "python",
   "nbconvert_exporter": "python",
   "pygments_lexer": "ipython3",
   "version": "3.10.12"
  }
 },
 "nbformat": 4,
 "nbformat_minor": 4
}
