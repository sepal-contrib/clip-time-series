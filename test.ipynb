{
 "cells": [
  {
   "cell_type": "code",
   "execution_count": null,
   "metadata": {},
   "outputs": [],
   "source": [
    "%load_ext autoreload\n",
    "%autoreload 2"
   ]
  },
  {
   "cell_type": "code",
   "execution_count": null,
   "metadata": {},
   "outputs": [],
   "source": [
    "import sepal_ui.sepalwidgets as sw"
   ]
  },
  {
   "cell_type": "code",
   "execution_count": null,
   "metadata": {},
   "outputs": [],
   "source": [
    "class CustomAlert(sw.Alert):\n",
    "    \"\"\"Custom alert that update the progress iteratively.\"\"\"\n",
    "\n",
    "    total_image: int = 0\n",
    "\n",
    "    progress_text: str = \"\"\n",
    "\n",
    "    current_progress = 0\n",
    "\n",
    "    def reset_progress(self, total_image=1, progress_text=\"\"):\n",
    "        \"\"\"rest progress and setup the totla_image value and the text.\"\"\"\n",
    "        self.total_image = total_image\n",
    "        self.progress_text = progress_text\n",
    "        self.current_progress = 0\n",
    "\n",
    "        super().update_progress(0, self.progress_text, total=self.total_image)\n",
    "\n",
    "    def update_progress(self) -> None:\n",
    "        \"\"\"increment the progressses by 1.\"\"\"\n",
    "        self.current_progress = self.current_progress + 1\n",
    "        return super().update_progress(\n",
    "            progress=self.current_progress,\n",
    "            msg=self.progress_text,\n",
    "            total=self.total_image,\n",
    "        )"
   ]
  },
  {
   "cell_type": "code",
   "execution_count": null,
   "metadata": {},
   "outputs": [],
   "source": [
    "alert = CustomAlert()"
   ]
  },
  {
   "cell_type": "code",
   "execution_count": null,
   "metadata": {},
   "outputs": [],
   "source": [
    "alert.reset_progress(4, \"Pdf page created\")"
   ]
  },
  {
   "cell_type": "code",
   "execution_count": null,
   "metadata": {},
   "outputs": [],
   "source": [
    "alert."
   ]
  },
  {
   "cell_type": "code",
   "execution_count": null,
   "metadata": {},
   "outputs": [],
   "source": [
    "alert.total_image"
   ]
  },
  {
   "cell_type": "code",
   "execution_count": null,
   "metadata": {},
   "outputs": [],
   "source": [
    "alert.current_progress"
   ]
  },
  {
   "cell_type": "code",
   "execution_count": null,
   "metadata": {},
   "outputs": [],
   "source": [
    "alert.update_progress()"
   ]
  },
  {
   "cell_type": "code",
   "execution_count": null,
   "metadata": {},
   "outputs": [],
   "source": [
    "alert"
   ]
  }
 ],
 "metadata": {
  "kernelspec": {
   "display_name": "clip-time-series",
   "language": "python",
   "name": "python3"
  },
  "language_info": {
   "codemirror_mode": {
    "name": "ipython",
    "version": 3
   },
   "file_extension": ".py",
   "mimetype": "text/x-python",
   "name": "python",
   "nbconvert_exporter": "python",
   "pygments_lexer": "ipython3",
   "version": "3.10.12"
  }
 },
 "nbformat": 4,
 "nbformat_minor": 2
}
