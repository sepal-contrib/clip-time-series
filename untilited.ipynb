{
 "cells": [
  {
   "cell_type": "code",
   "execution_count": null,
   "metadata": {},
   "outputs": [],
   "source": [
    "import planet\n",
    "\n",
    "planet.__version__"
   ]
  },
  {
   "cell_type": "code",
   "execution_count": null,
   "metadata": {},
   "outputs": [],
   "source": [
    "from sepal_ui import planetapi\n",
    "\n",
    "model = planetapi.PlanetModel(\"PLAKccb460472d7e4319938d0a3466e880c5\")\n",
    "model.active"
   ]
  },
  {
   "cell_type": "code",
   "execution_count": null,
   "metadata": {},
   "outputs": [],
   "source": [
    "from planet import DataClient\n",
    "\n",
    "client = planet.DataClient(model.session)"
   ]
  },
  {
   "cell_type": "code",
   "execution_count": null,
   "metadata": {},
   "outputs": [],
   "source": [
    "API_KEY = \"PLAKccb460472d7e4319938d0a3466e880c5\""
   ]
  },
  {
   "cell_type": "code",
   "execution_count": null,
   "metadata": {},
   "outputs": [],
   "source": [
    "import requests\n",
    "\n",
    "BASE_URL = \"https://api.planet.com/basemaps/v1/mosaics?api_key={}\"\n",
    "res = requests.get(BASE_URL.format(API_KEY))\n",
    "\n",
    "res.json()[\"mosaics\"]"
   ]
  },
  {
   "cell_type": "code",
   "execution_count": null,
   "metadata": {},
   "outputs": [],
   "source": [
    "quad = \"1088-1058\"\n",
    "id = \"1f0570f3-b373-457f-89a5-046b4080d199\"\n",
    "# id= \"planet_medres_normalized_analytic_2015-12_2016-05_mosaic\""
   ]
  },
  {
   "cell_type": "code",
   "execution_count": null,
   "metadata": {},
   "outputs": [],
   "source": [
    "from sepal_ui.planetapi import PlanetModel\n",
    "\n",
    "planet_model = PlanetModel(API_KEY)"
   ]
  },
  {
   "cell_type": "code",
   "execution_count": null,
   "metadata": {},
   "outputs": [],
   "source": [
    "import requests\n",
    "\n",
    "session = requests.Session()\n",
    "session.auth = (API_KEY, \"\")\n",
    "parameters = {\"name_is\": id}\n",
    "url = \"https://api.planet.com/basemaps/v1/mosaics/{}\"\n",
    "res = session.get(url.format(id))\n",
    "res.status_code"
   ]
  },
  {
   "cell_type": "code",
   "execution_count": null,
   "metadata": {},
   "outputs": [],
   "source": []
  }
 ],
 "metadata": {
  "kernelspec": {
   "display_name": "Python 3",
   "language": "python",
   "name": "python3"
  },
  "language_info": {
   "codemirror_mode": {
    "name": "ipython",
    "version": 3
   },
   "file_extension": ".py",
   "mimetype": "text/x-python",
   "name": "python",
   "nbconvert_exporter": "python",
   "pygments_lexer": "ipython3",
   "version": "3.10.6"
  }
 },
 "nbformat": 4,
 "nbformat_minor": 2
}
