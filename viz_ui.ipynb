{
 "cells": [
  {
   "cell_type": "code",
   "execution_count": null,
   "metadata": {},
   "outputs": [],
   "source": [
    "from component import tile\n",
    "from component import model"
   ]
  },
  {
   "cell_type": "code",
   "execution_count": null,
   "metadata": {},
   "outputs": [],
   "source": [
    "# # for debug\n",
    "# import pandas as pd\n",
    "# import geopandas as gpd\n",
    "# from component import parameter as cp\n",
    "\n",
    "# tb_model = model.TableModel()\n",
    "# tb_model.json_table = '{\"pathname\": \"/home/prambaud/modules/clip-time-series/utils/clip_test_points.csv\", \"id_column\": \"id\", \"lat_column\": \"Y\", \"lng_column\": \"X\"}'\n",
    "\n",
    "\n",
    "# df = pd.read_csv(cp.test_dataset, sep=None, engine='python')\n",
    "# df = df.filter(items=[\"lat\", \"lng\", \"id\"])\n",
    "# gdf = gpd.GeoDataFrame(df, geometry=gpd.points_from_xy(df.lng, df.lat), crs='EPSG:4326')\n",
    "# tb_model.pts = gdf"
   ]
  },
  {
   "cell_type": "code",
   "execution_count": null,
   "metadata": {},
   "outputs": [],
   "source": [
    "viz_model = model.VizModel()"
   ]
  },
  {
   "cell_type": "code",
   "execution_count": null,
   "metadata": {},
   "outputs": [],
   "source": [
    "viz_input_tile = tile.InputTile(viz_model, tb_model)"
   ]
  },
  {
   "cell_type": "code",
   "execution_count": null,
   "metadata": {},
   "outputs": [],
   "source": [
    "viz_input_tile"
   ]
  }
 ],
 "metadata": {
  "kernelspec": {
   "display_name": "Python 3",
   "language": "python",
   "name": "python3"
  },
  "language_info": {
   "codemirror_mode": {
    "name": "ipython",
    "version": 3
   },
   "file_extension": ".py",
   "mimetype": "text/x-python",
   "name": "python",
   "nbconvert_exporter": "python",
   "pygments_lexer": "ipython3",
   "version": "3.8.10"
  }
 },
 "nbformat": 4,
 "nbformat_minor": 4
}
