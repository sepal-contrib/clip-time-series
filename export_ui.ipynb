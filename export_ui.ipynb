{
 "cells": [
  {
   "cell_type": "code",
   "execution_count": null,
   "metadata": {},
   "outputs": [],
   "source": [
    "from component import model\n",
    "from component import tile"
   ]
  },
  {
   "cell_type": "code",
   "execution_count": null,
   "metadata": {},
   "outputs": [],
   "source": [
    "export_model = model.ExportModel()"
   ]
  },
  {
   "cell_type": "code",
   "execution_count": null,
   "metadata": {},
   "outputs": [],
   "source": [
    "# # for debug\n",
    "# import pandas as pd\n",
    "# import geopandas as gpd\n",
    "# from sepal_ui import sepalwidgets as sw\n",
    "# from component import parameter as cp\n",
    "# from component import scripts as cs\n",
    "\n",
    "# tb_model = model.TableModel()\n",
    "# tb_model.json_table = '{\"pathname\": \"/home/prambaud/modules/clip-time-series/utils/clip_test_points.csv\", \"id_column\": \"id\", \"lat_column\": \"Y\", \"lng_column\": \"X\"}'\n",
    "\n",
    "# df = pd.read_csv(cp.test_dataset, sep=None, engine='python')\n",
    "# gdf = gpd.GeoDataFrame(df, geometry=gpd.points_from_xy(df.lng, df.lat), crs='EPSG:4326')\n",
    "# tb_model.pts = gdf\n",
    "\n",
    "# viz_model = model.VizModel()\n",
    "# viz_model.check = True\n",
    "# viz_model.sources = ['landsat']\n",
    "\n",
    "# #viz_model.bands = 'Red, Green, Blue' # for gee driver\n",
    "# viz_model.bands = 'rgb' # for planet driver\n",
    "# viz_model.start_year =  2018\n",
    "# viz_model.end_year = 2021\n",
    "# viz_model.square_size = 2000\n",
    "# viz_model.driver = \"planet\"\n",
    "# viz_model.key = \"ThisIsNotAKey\"\n",
    "# viz_model.semester = 'S1'\n",
    "# cs.validate_key(viz_model.key, sw.Alert())"
   ]
  },
  {
   "cell_type": "code",
   "execution_count": null,
   "metadata": {},
   "outputs": [],
   "source": [
    "# result tile\n",
    "export_results = tile.ExportResult()"
   ]
  },
  {
   "cell_type": "code",
   "execution_count": null,
   "metadata": {},
   "outputs": [],
   "source": [
    "# export data\n",
    "export_tile = tile.ExportData(export_model, viz_model, tb_model, export_results)"
   ]
  },
  {
   "cell_type": "code",
   "execution_count": null,
   "metadata": {},
   "outputs": [],
   "source": [
    "export_tile"
   ]
  },
  {
   "cell_type": "code",
   "execution_count": null,
   "metadata": {},
   "outputs": [],
   "source": [
    "export_results"
   ]
  }
 ],
 "metadata": {
  "kernelspec": {
   "display_name": "Python 3",
   "language": "python",
   "name": "python3"
  },
  "language_info": {
   "codemirror_mode": {
    "name": "ipython",
    "version": 3
   },
   "file_extension": ".py",
   "mimetype": "text/x-python",
   "name": "python",
   "nbconvert_exporter": "python",
   "pygments_lexer": "ipython3",
   "version": "3.6.9"
  }
 },
 "nbformat": 4,
 "nbformat_minor": 4
}
